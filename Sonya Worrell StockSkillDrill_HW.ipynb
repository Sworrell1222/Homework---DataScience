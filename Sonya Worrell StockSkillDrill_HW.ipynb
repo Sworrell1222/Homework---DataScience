{
 "cells": [
  {
   "cell_type": "code",
   "execution_count": 3,
   "metadata": {},
   "outputs": [],
   "source": [
    "# Import the 'os' and 'csv' libraries\n",
    "import os\n",
    "import csv\n",
    "import numpy as np"
   ]
  },
  {
   "cell_type": "code",
   "execution_count": 4,
   "metadata": {},
   "outputs": [],
   "source": [
    "# Set path for importing our CSV file \n",
    "csvpath = os.path.join('Resources', 'yahoo_stock.csv')"
   ]
  },
  {
   "cell_type": "code",
   "execution_count": 9,
   "metadata": {
    "scrolled": true
   },
   "outputs": [
    {
     "ename": "SyntaxError",
     "evalue": "invalid syntax (<ipython-input-9-5c8508ae8e9a>, line 18)",
     "output_type": "error",
     "traceback": [
      "\u001b[1;36m  File \u001b[1;32m\"<ipython-input-9-5c8508ae8e9a>\"\u001b[1;36m, line \u001b[1;32m18\u001b[0m\n\u001b[1;33m    if (absolute daily percentage change)> previous max\u001b[0m\n\u001b[1;37m                 ^\u001b[0m\n\u001b[1;31mSyntaxError\u001b[0m\u001b[1;31m:\u001b[0m invalid syntax\n"
     ]
    }
   ],
   "source": [
    "# Open a connection to the comma-delimited csv file \n",
    "with open(csvpath, 'r') as csvfile:\n",
    "        \n",
    "    # Read in the CSV file using csv.DictReader() class\n",
    "    csvreader = csv.DictReader(csvfile, delimiter='\\t')\n",
    "    \n",
    "    # Create a variable to save our print row and greatest daily percent change\n",
    "    csvwriter.row(csv_header)\n",
    "    print(row)\n",
    "        \n",
    "    # Iterate through each row\n",
    "    for row in csvwriter:\n",
    "        \n",
    "        # For each row, calculate the daily percent change\n",
    "        for row in csvpath\n",
    "        Daily Percentage = (High - Low)/100\n",
    "        compare Daily Percentage to (all values of Daily percentage)\n",
    "            print max\n",
    "    \n",
    "        \n",
    "        # Check if the absolute daily percent change is greater than the previous max\n",
    "        Absolute Daily Percentage = (High - Low)/100 \n",
    "            compare absolute daily percentgage to previous max\n",
    "        \n",
    "                 \n",
    "            # If true, store new greatest daily percent change and print row\n",
    "            \n",
    "    # Print out the date, stock high, stock low, volume and percent change for the day with the greatest percent change\n"
   ]
  },
  {
   "cell_type": "code",
   "execution_count": null,
   "metadata": {},
   "outputs": [],
   "source": []
  },
  {
   "cell_type": "code",
   "execution_count": null,
   "metadata": {},
   "outputs": [],
   "source": []
  },
  {
   "cell_type": "code",
   "execution_count": 8,
   "metadata": {
    "scrolled": true
   },
   "outputs": [],
   "source": []
  },
  {
   "cell_type": "code",
   "execution_count": null,
   "metadata": {},
   "outputs": [],
   "source": []
  }
 ],
 "metadata": {
  "kernelspec": {
   "display_name": "Python 3",
   "language": "python",
   "name": "python3"
  },
  "language_info": {
   "codemirror_mode": {
    "name": "ipython",
    "version": 3
   },
   "file_extension": ".py",
   "mimetype": "text/x-python",
   "name": "python",
   "nbconvert_exporter": "python",
   "pygments_lexer": "ipython3",
   "version": "3.8.5"
  }
 },
 "nbformat": 4,
 "nbformat_minor": 4
}
