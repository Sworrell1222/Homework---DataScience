{
 "cells": [
  {
   "cell_type": "code",
   "execution_count": null,
   "metadata": {},
   "outputs": [],
   "source": [
    "# Dependencies\n",
    "from sklearn import datasets\n",
    "import pandas as pd\n",
    "import statsmodels.api as sm\n",
    "import numpy as np\n",
    "import os\n"
   ]
  },
  {
   "cell_type": "code",
   "execution_count": null,
   "metadata": {},
   "outputs": [],
   "source": [
    "bikecounts_file = os.path.join('../','Resources', 'bikecounts.csv')\n",
    "bikecounts_df = pd.read_csv(bikecounts_file)\n",
    "bikecounts_df['Day'] = pd.to_datetime(bikecounts_df['Day'])\n",
    "bikecounts_df.head()"
   ]
  },
  {
   "cell_type": "code",
   "execution_count": null,
   "metadata": {},
   "outputs": [],
   "source": [
    "bikecounts_df.describe()"
   ]
  },
  {
   "cell_type": "code",
   "execution_count": null,
   "metadata": {},
   "outputs": [],
   "source": [
    "#1. Formulate a hypothesis about the number of bikes crossing the Brooklyn Bridge using the New York Bike Counts dataset.\n",
    "# Is there a high number of bikers that cross the Brooklyn Bridge on days with high precipitation? \n",
    "\n",
    "#  * Hypothesis - Is there a high number of bikers that cross the Brooklyn Bridge on days where there is a high amount of precipitation?\n",
    "    "
   ]
  },
  {
   "cell_type": "code",
   "execution_count": null,
   "metadata": {},
   "outputs": [],
   "source": [
    "bikecounts_df.dtypes"
   ]
  },
  {
   "cell_type": "code",
   "execution_count": null,
   "metadata": {},
   "outputs": [],
   "source": [
    "#   bikecounts_df['Precipitation']= np.(bikecounts_df['Precipitation'])\n",
    "#bikecounts_df"
   ]
  },
  {
   "cell_type": "code",
   "execution_count": null,
   "metadata": {},
   "outputs": [],
   "source": [
    "bikecounts_df.drop(bikecounts_df.index[[3,21]])\n",
    "def rm_chars(x):\n",
    "      x= x.replace(\"(S)\"\",\")\n",
    "      x=x.replace('T', 0)\n",
    "      return float(x.strip())"
   ]
  },
  {
   "cell_type": "code",
   "execution_count": null,
   "metadata": {},
   "outputs": [],
   "source": [
    "bikecounts_df.head()"
   ]
  },
  {
   "cell_type": "code",
   "execution_count": null,
   "metadata": {},
   "outputs": [],
   "source": [
    "#Selecting independent\n",
    "X = bikecounts_df[['Brooklyn Bridge','Total','High Temp (°F)']]\n",
    "y = bikecounts_df['Day']\n",
    "X = sm.add_constant(X)\n",
    "model = sm.OLS(y, X)\n",
    "results = model.fit()"
   ]
  },
  {
   "cell_type": "code",
   "execution_count": null,
   "metadata": {},
   "outputs": [],
   "source": [
    "#Print the linear regression results\n",
    "print(results.summary())"
   ]
  },
  {
   "cell_type": "code",
   "execution_count": null,
   "metadata": {},
   "outputs": [],
   "source": [
    "# Print out the equation of a line\n",
    "coef = results.params\n",
    "print(f\"The equation of our line is y = (Brooklyn Bridge *{coef[1]}) + {coef[0]}\")"
   ]
  },
  {
   "cell_type": "code",
   "execution_count": null,
   "metadata": {},
   "outputs": [],
   "source": [
    "\n",
    "#Hypothesis: Warmer temperatures are directly associated with biking riding activity, then the number\n",
    "# of bikes crossing the Brooklyn Bridge will be higher when temperatures are warmer.\n",
    "\n",
    "# Null Hypothesis: If warmer temperatures are not directly related with the amount of bike riding activity, then the number\n",
    "# of bikes crossing the Brooklyn bridge will not be higher when temperatures are warmer.\n",
    "\n",
    "\n",
    "# Alternative Hypothesis -Warmer temperatures are associated with bike riding activity, therefore\n",
    "# an increase in the the number of riders should result with warmer termperatures."
   ]
  }
 ],
 "metadata": {
  "kernelspec": {
   "display_name": "Python 3",
   "language": "python",
   "name": "python3"
  },
  "language_info": {
   "codemirror_mode": {
    "name": "ipython",
    "version": 3
   },
   "file_extension": ".py",
   "mimetype": "text/x-python",
   "name": "python",
   "nbconvert_exporter": "python",
   "pygments_lexer": "ipython3",
   "version": "3.8.5"
  }
 },
 "nbformat": 4,
 "nbformat_minor": 2
}
